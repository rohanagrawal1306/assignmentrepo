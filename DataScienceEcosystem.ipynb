{
 "cells": [
  {
   "cell_type": "markdown",
   "id": "3ea569be-f324-4125-8127-45928369f2a0",
   "metadata": {},
   "source": [
    "# Data Science Tools and Ecosystem"
   ]
  },
  {
   "cell_type": "markdown",
   "id": "6f6a0a5f-f433-46be-a2cd-603caea7ba49",
   "metadata": {},
   "source": [
    "In this notebook, Data Science Tools and Ecosystem are summarized."
   ]
  },
  {
   "cell_type": "markdown",
   "id": "ccdb1a15-5cbd-4352-9fcb-eddb7aad2fa7",
   "metadata": {},
   "source": [
    "**Objectives:**\n",
    "\n",
    "     - List popular languages for data science\n",
    "     - List libraries commonly used by data scientists\n",
    "     - List important tools used in data science"
   ]
  },
  {
   "cell_type": "markdown",
   "id": "d4d04a74-74a4-4e62-bde7-5c007184faf0",
   "metadata": {},
   "source": [
    "Some of the popular languages that Data Scientists use are:\n",
    "1. R\n",
    "2. Python\n",
    "3. Java"
   ]
  },
  {
   "cell_type": "markdown",
   "id": "cba72f2c-c2f4-49d5-89a0-3f3296a2fffb",
   "metadata": {},
   "source": [
    "Some of the commonly used libraries used by Data Scientists include:\n",
    "1. numpy\n",
    "2. matplotlib\n",
    "3. ggplot"
   ]
  },
  {
   "cell_type": "markdown",
   "id": "75653402-ca3a-4365-87c0-30616b152868",
   "metadata": {},
   "source": [
    "|Data Science Tools|\n",
    "|--------|\n",
    "|Apache Hadoop|\n",
    "|Git|\n",
    "|Tableau|"
   ]
  },
  {
   "cell_type": "markdown",
   "id": "8fa78fab-e9a1-42b0-acf5-092440280e94",
   "metadata": {},
   "source": [
    "### Below are a few examples of evaluating arithmetic expressions in Python"
   ]
  },
  {
   "cell_type": "code",
   "execution_count": 1,
   "id": "739e1fdb-f35a-44d5-a45c-a40b947916e7",
   "metadata": {
    "tags": []
   },
   "outputs": [
    {
     "data": {
      "text/plain": [
       "17"
      ]
     },
     "execution_count": 1,
     "metadata": {},
     "output_type": "execute_result"
    }
   ],
   "source": [
    "#This is a simple arithmetic expression to mutiply then add integers\n",
    "\n",
    "(3*4)+5"
   ]
  },
  {
   "cell_type": "code",
   "execution_count": 2,
   "id": "c1573cff-6556-4680-8b70-b5b7836a566d",
   "metadata": {
    "tags": []
   },
   "outputs": [
    {
     "name": "stdout",
     "output_type": "stream",
     "text": [
      "3.3333333333333335\n"
     ]
    }
   ],
   "source": [
    "#This will convert 200 minutes to hours by dividing by 60\n",
    "\n",
    "hours=200/60\n",
    "print(hours)"
   ]
  },
  {
   "cell_type": "markdown",
   "id": "96b00bc6-8eaf-4c46-a971-3dff7856eae0",
   "metadata": {},
   "source": [
    "## Author\n",
    "Rohan Agrawal"
   ]
  },
  {
   "cell_type": "code",
   "execution_count": null,
   "id": "0279ae71-cbdb-4e48-8458-53b8dd83a44e",
   "metadata": {},
   "outputs": [],
   "source": []
  }
 ],
 "metadata": {
  "kernelspec": {
   "display_name": "Python",
   "language": "python",
   "name": "conda-env-python-py"
  },
  "language_info": {
   "codemirror_mode": {
    "name": "ipython",
    "version": 3
   },
   "file_extension": ".py",
   "mimetype": "text/x-python",
   "name": "python",
   "nbconvert_exporter": "python",
   "pygments_lexer": "ipython3",
   "version": "3.7.12"
  }
 },
 "nbformat": 4,
 "nbformat_minor": 5
}
